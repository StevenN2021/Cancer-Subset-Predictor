{
 "cells": [
  {
   "cell_type": "code",
   "execution_count": 2,
   "id": "7c283197",
   "metadata": {},
   "outputs": [],
   "source": [
    "#load libraries\n",
    "import numpy as np\n",
    "import pandas as pd\n",
    "import matplotlib.pyplot as plt"
   ]
  },
  {
   "cell_type": "code",
   "execution_count": 3,
   "id": "887fbda9",
   "metadata": {},
   "outputs": [],
   "source": [
    "#read in data\n",
    "counts = pd.read_csv('/Users/stevennguyen/Projects/Cancer-Subset-Predictor-/data/data.csv')\n",
    "labels = pd.read_csv('/Users/stevennguyen/Projects/Cancer-Subset-Predictor-/data/labels.csv')"
   ]
  },
  {
   "cell_type": "code",
   "execution_count": 5,
   "id": "e29b7a64",
   "metadata": {},
   "outputs": [
    {
     "name": "stdout",
     "output_type": "stream",
     "text": [
      "(801, 20531) (801,)\n"
     ]
    }
   ],
   "source": [
    "#Split into X and y\n",
    "X = counts.drop(columns=['Unnamed: 0'])\n",
    "y = labels['Class']\n",
    "print(X.shape, y.shape)"
   ]
  },
  {
   "cell_type": "code",
   "execution_count": 6,
   "id": "c3c43002",
   "metadata": {},
   "outputs": [
    {
     "name": "stdout",
     "output_type": "stream",
     "text": [
      "Class labels: ['BRCA' 'COAD' 'KIRC' 'LUAD' 'PRAD']\n",
      "Encoding [4 3 4 4 0]\n"
     ]
    }
   ],
   "source": [
    "#encode labels because they are categorical\n",
    "from sklearn.preprocessing import LabelEncoder\n",
    "le = LabelEncoder()\n",
    "y_encoded = le.fit_transform(y)\n",
    "labeling = le.classes_\n",
    "print(\"Class labels:\", labeling)\n",
    "print(\"Encoding\",y_encoded[:5])"
   ]
  }
 ],
 "metadata": {
  "kernelspec": {
   "display_name": "pyml",
   "language": "python",
   "name": "python3"
  },
  "language_info": {
   "codemirror_mode": {
    "name": "ipython",
    "version": 3
   },
   "file_extension": ".py",
   "mimetype": "text/x-python",
   "name": "python",
   "nbconvert_exporter": "python",
   "pygments_lexer": "ipython3",
   "version": "3.13.7"
  }
 },
 "nbformat": 4,
 "nbformat_minor": 5
}
